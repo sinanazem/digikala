{
 "cells": [
  {
   "cell_type": "markdown",
   "id": "700750dd-54fe-4899-bb5b-9b07a0d82b6c",
   "metadata": {},
   "source": [
    "<div>\n",
    "    <img src=\"https://media.datakeen.co/wp-content/uploads/2022/11/28141154/Datakeen-Classification-texte.png\" alt=\"Nobel Prize\" width=\"250\" align=\"left\" hspace=\"10\">\n",
    "    <h1>Digikala Comments Classification</h1>\n",
    "</div>\r\n",
    "\r\n",
    "Objective: Develop a model to classify Digikala user comments by intent (e.g., product quality, pricin).\r\n",
    "\r\n",
    "Approach: Use machine learning for multi-class classification, focusing on precision."
   ]
  },
  {
   "cell_type": "markdown",
   "id": "f70cffe2-87fd-4b32-8120-1c90901e4e78",
   "metadata": {},
   "source": [
    "## Import necessary libraries"
   ]
  },
  {
   "cell_type": "code",
   "execution_count": 31,
   "id": "900edfe4-6fd1-458f-900a-8b249d2a5a49",
   "metadata": {},
   "outputs": [],
   "source": [
    "import pandas as pd\n",
    "import seaborn as sns\n",
    "import matplotlib.pyplot as plt\n",
    "import numpy as np\n",
    "\n",
    "import warnings\n",
    "warnings.filterwarnings(\"ignore\")"
   ]
  },
  {
   "cell_type": "markdown",
   "id": "3e190190-e69e-4138-b502-61af12c38dc9",
   "metadata": {},
   "source": [
    "## Read Data"
   ]
  },
  {
   "cell_type": "code",
   "execution_count": 4,
   "id": "0f2a3a98-7c2d-4b29-9351-a23f9beac4b2",
   "metadata": {},
   "outputs": [],
   "source": [
    "df = pd.read_csv(\"data_train.csv\")"
   ]
  },
  {
   "cell_type": "markdown",
   "id": "7a7afdb7-16a0-4834-91dc-a0d3129f5fd2",
   "metadata": {},
   "source": [
    "## Overview of Data"
   ]
  },
  {
   "cell_type": "code",
   "execution_count": 5,
   "id": "3029bcbe-58bd-4f79-9c2d-b4424541602f",
   "metadata": {},
   "outputs": [
    {
     "data": {
      "text/html": [
       "<div>\n",
       "<style scoped>\n",
       "    .dataframe tbody tr th:only-of-type {\n",
       "        vertical-align: middle;\n",
       "    }\n",
       "\n",
       "    .dataframe tbody tr th {\n",
       "        vertical-align: top;\n",
       "    }\n",
       "\n",
       "    .dataframe thead th {\n",
       "        text-align: right;\n",
       "    }\n",
       "</style>\n",
       "<table border=\"1\" class=\"dataframe\">\n",
       "  <thead>\n",
       "    <tr style=\"text-align: right;\">\n",
       "      <th></th>\n",
       "      <th>id</th>\n",
       "      <th>comment</th>\n",
       "      <th>intent</th>\n",
       "    </tr>\n",
       "  </thead>\n",
       "  <tbody>\n",
       "    <tr>\n",
       "      <th>0</th>\n",
       "      <td>14311999</td>\n",
       "      <td>خوب وخوش طعم بود</td>\n",
       "      <td>1,5</td>\n",
       "    </tr>\n",
       "    <tr>\n",
       "      <th>1</th>\n",
       "      <td>14312094</td>\n",
       "      <td>واقعا دست مریزاد هراز جان هم زده پروبیوتیک و خ...</td>\n",
       "      <td>1,5</td>\n",
       "    </tr>\n",
       "    <tr>\n",
       "      <th>2</th>\n",
       "      <td>14312102</td>\n",
       "      <td>هنوز استفاده نکردم ولی عطر خوبی داره بسته بندی...</td>\n",
       "      <td>1,5</td>\n",
       "    </tr>\n",
       "    <tr>\n",
       "      <th>3</th>\n",
       "      <td>14312205</td>\n",
       "      <td>ماندگاری خیلی خوبی داره اما بوی خوشایندی نداره</td>\n",
       "      <td>1,5</td>\n",
       "    </tr>\n",
       "    <tr>\n",
       "      <th>4</th>\n",
       "      <td>14312224</td>\n",
       "      <td>من خیلی وقته از رول ضد تعریق شون استفاده میکنم...</td>\n",
       "      <td>1,5</td>\n",
       "    </tr>\n",
       "  </tbody>\n",
       "</table>\n",
       "</div>"
      ],
      "text/plain": [
       "         id                                            comment intent\n",
       "0  14311999                                   خوب وخوش طعم بود    1,5\n",
       "1  14312094  واقعا دست مریزاد هراز جان هم زده پروبیوتیک و خ...    1,5\n",
       "2  14312102  هنوز استفاده نکردم ولی عطر خوبی داره بسته بندی...    1,5\n",
       "3  14312205     ماندگاری خیلی خوبی داره اما بوی خوشایندی نداره    1,5\n",
       "4  14312224  من خیلی وقته از رول ضد تعریق شون استفاده میکنم...    1,5"
      ]
     },
     "execution_count": 5,
     "metadata": {},
     "output_type": "execute_result"
    }
   ],
   "source": [
    "df.head()"
   ]
  },
  {
   "cell_type": "code",
   "execution_count": 6,
   "id": "e58c3d2c-35b4-46c0-a016-0c1e0a155828",
   "metadata": {},
   "outputs": [
    {
     "data": {
      "text/html": [
       "<div>\n",
       "<style scoped>\n",
       "    .dataframe tbody tr th:only-of-type {\n",
       "        vertical-align: middle;\n",
       "    }\n",
       "\n",
       "    .dataframe tbody tr th {\n",
       "        vertical-align: top;\n",
       "    }\n",
       "\n",
       "    .dataframe thead th {\n",
       "        text-align: right;\n",
       "    }\n",
       "</style>\n",
       "<table border=\"1\" class=\"dataframe\">\n",
       "  <thead>\n",
       "    <tr style=\"text-align: right;\">\n",
       "      <th></th>\n",
       "      <th>id</th>\n",
       "      <th>comment</th>\n",
       "      <th>intent</th>\n",
       "    </tr>\n",
       "  </thead>\n",
       "  <tbody>\n",
       "    <tr>\n",
       "      <th>89995</th>\n",
       "      <td>15336944</td>\n",
       "      <td>بسیار زیبا و خوش دوخت بود\\nمن سایزم ۴۰ هست که ...</td>\n",
       "      <td>1</td>\n",
       "    </tr>\n",
       "    <tr>\n",
       "      <th>89996</th>\n",
       "      <td>15336946</td>\n",
       "      <td>کیفیت مناسب</td>\n",
       "      <td>1</td>\n",
       "    </tr>\n",
       "    <tr>\n",
       "      <th>89997</th>\n",
       "      <td>15336949</td>\n",
       "      <td>خوب و معمولی است.</td>\n",
       "      <td>1</td>\n",
       "    </tr>\n",
       "    <tr>\n",
       "      <th>89998</th>\n",
       "      <td>15336950</td>\n",
       "      <td>بد نیست</td>\n",
       "      <td>1</td>\n",
       "    </tr>\n",
       "    <tr>\n",
       "      <th>89999</th>\n",
       "      <td>15336955</td>\n",
       "      <td>نسبتا خوب</td>\n",
       "      <td>1</td>\n",
       "    </tr>\n",
       "  </tbody>\n",
       "</table>\n",
       "</div>"
      ],
      "text/plain": [
       "             id                                            comment intent\n",
       "89995  15336944  بسیار زیبا و خوش دوخت بود\\nمن سایزم ۴۰ هست که ...      1\n",
       "89996  15336946                                        کیفیت مناسب      1\n",
       "89997  15336949                                  خوب و معمولی است.      1\n",
       "89998  15336950                                            بد نیست      1\n",
       "89999  15336955                                          نسبتا خوب      1"
      ]
     },
     "execution_count": 6,
     "metadata": {},
     "output_type": "execute_result"
    }
   ],
   "source": [
    "df.tail()"
   ]
  },
  {
   "cell_type": "code",
   "execution_count": 7,
   "id": "e03a660f-c4b8-46d9-bf04-9883d0f9b2ef",
   "metadata": {},
   "outputs": [
    {
     "name": "stdout",
     "output_type": "stream",
     "text": [
      "<class 'pandas.core.frame.DataFrame'>\n",
      "RangeIndex: 90000 entries, 0 to 89999\n",
      "Data columns (total 3 columns):\n",
      " #   Column   Non-Null Count  Dtype \n",
      "---  ------   --------------  ----- \n",
      " 0   id       90000 non-null  int64 \n",
      " 1   comment  90000 non-null  object\n",
      " 2   intent   90000 non-null  object\n",
      "dtypes: int64(1), object(2)\n",
      "memory usage: 2.1+ MB\n"
     ]
    }
   ],
   "source": [
    "df.info()"
   ]
  },
  {
   "cell_type": "code",
   "execution_count": 8,
   "id": "08aab9e8-f943-4ad8-82e5-3a3361605489",
   "metadata": {},
   "outputs": [
    {
     "data": {
      "text/plain": [
       "id         0\n",
       "comment    0\n",
       "intent     0\n",
       "dtype: int64"
      ]
     },
     "execution_count": 8,
     "metadata": {},
     "output_type": "execute_result"
    }
   ],
   "source": [
    "df.isna().sum()"
   ]
  },
  {
   "cell_type": "code",
   "execution_count": 9,
   "id": "b907d57b-4384-49e7-ac69-1a282bf02d56",
   "metadata": {},
   "outputs": [
    {
     "data": {
      "text/plain": [
       "1"
      ]
     },
     "execution_count": 9,
     "metadata": {},
     "output_type": "execute_result"
    }
   ],
   "source": [
    "df.duplicated().sum()"
   ]
  },
  {
   "cell_type": "markdown",
   "id": "e2bd8709-0755-4364-b64d-fca470d2d167",
   "metadata": {},
   "source": [
    "## Handle Missing Values & Duplicates"
   ]
  },
  {
   "cell_type": "code",
   "execution_count": 10,
   "id": "29b2195d-10bf-40d4-9978-edbbfe2096af",
   "metadata": {},
   "outputs": [
    {
     "data": {
      "text/html": [
       "<div>\n",
       "<style scoped>\n",
       "    .dataframe tbody tr th:only-of-type {\n",
       "        vertical-align: middle;\n",
       "    }\n",
       "\n",
       "    .dataframe tbody tr th {\n",
       "        vertical-align: top;\n",
       "    }\n",
       "\n",
       "    .dataframe thead th {\n",
       "        text-align: right;\n",
       "    }\n",
       "</style>\n",
       "<table border=\"1\" class=\"dataframe\">\n",
       "  <thead>\n",
       "    <tr style=\"text-align: right;\">\n",
       "      <th></th>\n",
       "      <th>id</th>\n",
       "      <th>comment</th>\n",
       "      <th>intent</th>\n",
       "    </tr>\n",
       "  </thead>\n",
       "  <tbody>\n",
       "    <tr>\n",
       "      <th>49189</th>\n",
       "      <td>14000000</td>\n",
       "      <td>بوی خوب و غلظت مناسب</td>\n",
       "      <td>5</td>\n",
       "    </tr>\n",
       "  </tbody>\n",
       "</table>\n",
       "</div>"
      ],
      "text/plain": [
       "             id               comment intent\n",
       "49189  14000000  بوی خوب و غلظت مناسب      5"
      ]
     },
     "execution_count": 10,
     "metadata": {},
     "output_type": "execute_result"
    }
   ],
   "source": [
    "df[df.duplicated()]"
   ]
  },
  {
   "cell_type": "code",
   "execution_count": 11,
   "id": "fc6c6dfc-45b9-4ce4-b4bc-1a4df3d222d4",
   "metadata": {},
   "outputs": [
    {
     "data": {
      "text/html": [
       "<div>\n",
       "<style scoped>\n",
       "    .dataframe tbody tr th:only-of-type {\n",
       "        vertical-align: middle;\n",
       "    }\n",
       "\n",
       "    .dataframe tbody tr th {\n",
       "        vertical-align: top;\n",
       "    }\n",
       "\n",
       "    .dataframe thead th {\n",
       "        text-align: right;\n",
       "    }\n",
       "</style>\n",
       "<table border=\"1\" class=\"dataframe\">\n",
       "  <thead>\n",
       "    <tr style=\"text-align: right;\">\n",
       "      <th></th>\n",
       "      <th>id</th>\n",
       "      <th>comment</th>\n",
       "      <th>intent</th>\n",
       "    </tr>\n",
       "  </thead>\n",
       "  <tbody>\n",
       "    <tr>\n",
       "      <th>44545</th>\n",
       "      <td>14000000</td>\n",
       "      <td>بوی خوب و غلظت مناسب</td>\n",
       "      <td>5</td>\n",
       "    </tr>\n",
       "    <tr>\n",
       "      <th>49189</th>\n",
       "      <td>14000000</td>\n",
       "      <td>بوی خوب و غلظت مناسب</td>\n",
       "      <td>5</td>\n",
       "    </tr>\n",
       "  </tbody>\n",
       "</table>\n",
       "</div>"
      ],
      "text/plain": [
       "             id               comment intent\n",
       "44545  14000000  بوی خوب و غلظت مناسب      5\n",
       "49189  14000000  بوی خوب و غلظت مناسب      5"
      ]
     },
     "execution_count": 11,
     "metadata": {},
     "output_type": "execute_result"
    }
   ],
   "source": [
    "df[df[\"id\"] == 14000000]"
   ]
  },
  {
   "cell_type": "code",
   "execution_count": 12,
   "id": "0bd448ec-9ff2-4d22-bdac-eae73651cbe4",
   "metadata": {},
   "outputs": [],
   "source": [
    "df = df.drop_duplicates().reset_index(drop=True)"
   ]
  },
  {
   "cell_type": "markdown",
   "id": "53f11466-0e8f-44c1-9c17-957d200c9301",
   "metadata": {},
   "source": [
    "## EDA"
   ]
  },
  {
   "cell_type": "code",
   "execution_count": 13,
   "id": "3ce649e1-f6e8-4256-8509-505ef565a3e2",
   "metadata": {},
   "outputs": [
    {
     "data": {
      "image/png": "[encoded data removed]",
      "text/plain": [
       "<Figure size 640x480 with 1 Axes>"
      ]
     },
     "metadata": {},
     "output_type": "display_data"
    }
   ],
   "source": [
    "sns.countplot(df[\"intent\"]);"
   ]
  },
  {
   "cell_type": "code",
   "execution_count": 14,
   "id": "68e5777a-4d84-4336-ba63-b43abc6ca0bf",
   "metadata": {},
   "outputs": [
    {
     "data": {
      "text/plain": [
       "1,5    10000\n",
       "1,4    10000\n",
       "1,3    10000\n",
       "1,2    10000\n",
       "4      10000\n",
       "3      10000\n",
       "2      10000\n",
       "1      10000\n",
       "5       9999\n",
       "Name: intent, dtype: int64"
      ]
     },
     "execution_count": 14,
     "metadata": {},
     "output_type": "execute_result"
    }
   ],
   "source": [
    "df[\"intent\"].value_counts()"
   ]
  },
  {
   "cell_type": "code",
   "execution_count": 15,
   "id": "7775c141-8d38-43e5-8fd3-062a202f413f",
   "metadata": {},
   "outputs": [
    {
     "data": {
      "text/html": [
       "<div>\n",
       "<style scoped>\n",
       "    .dataframe tbody tr th:only-of-type {\n",
       "        vertical-align: middle;\n",
       "    }\n",
       "\n",
       "    .dataframe tbody tr th {\n",
       "        vertical-align: top;\n",
       "    }\n",
       "\n",
       "    .dataframe thead th {\n",
       "        text-align: right;\n",
       "    }\n",
       "</style>\n",
       "<table border=\"1\" class=\"dataframe\">\n",
       "  <thead>\n",
       "    <tr style=\"text-align: right;\">\n",
       "      <th></th>\n",
       "      <th>id</th>\n",
       "      <th>comment</th>\n",
       "      <th>intent</th>\n",
       "    </tr>\n",
       "  </thead>\n",
       "  <tbody>\n",
       "    <tr>\n",
       "      <th>0</th>\n",
       "      <td>14311999</td>\n",
       "      <td>خوب وخوش طعم بود</td>\n",
       "      <td>1,5</td>\n",
       "    </tr>\n",
       "    <tr>\n",
       "      <th>1</th>\n",
       "      <td>14312094</td>\n",
       "      <td>واقعا دست مریزاد هراز جان هم زده پروبیوتیک و خ...</td>\n",
       "      <td>1,5</td>\n",
       "    </tr>\n",
       "    <tr>\n",
       "      <th>2</th>\n",
       "      <td>14312102</td>\n",
       "      <td>هنوز استفاده نکردم ولی عطر خوبی داره بسته بندی...</td>\n",
       "      <td>1,5</td>\n",
       "    </tr>\n",
       "    <tr>\n",
       "      <th>3</th>\n",
       "      <td>14312205</td>\n",
       "      <td>ماندگاری خیلی خوبی داره اما بوی خوشایندی نداره</td>\n",
       "      <td>1,5</td>\n",
       "    </tr>\n",
       "    <tr>\n",
       "      <th>4</th>\n",
       "      <td>14312224</td>\n",
       "      <td>من خیلی وقته از رول ضد تعریق شون استفاده میکنم...</td>\n",
       "      <td>1,5</td>\n",
       "    </tr>\n",
       "    <tr>\n",
       "      <th>...</th>\n",
       "      <td>...</td>\n",
       "      <td>...</td>\n",
       "      <td>...</td>\n",
       "    </tr>\n",
       "    <tr>\n",
       "      <th>89994</th>\n",
       "      <td>15336944</td>\n",
       "      <td>بسیار زیبا و خوش دوخت بود\\nمن سایزم ۴۰ هست که ...</td>\n",
       "      <td>1</td>\n",
       "    </tr>\n",
       "    <tr>\n",
       "      <th>89995</th>\n",
       "      <td>15336946</td>\n",
       "      <td>کیفیت مناسب</td>\n",
       "      <td>1</td>\n",
       "    </tr>\n",
       "    <tr>\n",
       "      <th>89996</th>\n",
       "      <td>15336949</td>\n",
       "      <td>خوب و معمولی است.</td>\n",
       "      <td>1</td>\n",
       "    </tr>\n",
       "    <tr>\n",
       "      <th>89997</th>\n",
       "      <td>15336950</td>\n",
       "      <td>بد نیست</td>\n",
       "      <td>1</td>\n",
       "    </tr>\n",
       "    <tr>\n",
       "      <th>89998</th>\n",
       "      <td>15336955</td>\n",
       "      <td>نسبتا خوب</td>\n",
       "      <td>1</td>\n",
       "    </tr>\n",
       "  </tbody>\n",
       "</table>\n",
       "<p>89999 rows × 3 columns</p>\n",
       "</div>"
      ],
      "text/plain": [
       "             id                                            comment intent\n",
       "0      14311999                                   خوب وخوش طعم بود    1,5\n",
       "1      14312094  واقعا دست مریزاد هراز جان هم زده پروبیوتیک و خ...    1,5\n",
       "2      14312102  هنوز استفاده نکردم ولی عطر خوبی داره بسته بندی...    1,5\n",
       "3      14312205     ماندگاری خیلی خوبی داره اما بوی خوشایندی نداره    1,5\n",
       "4      14312224  من خیلی وقته از رول ضد تعریق شون استفاده میکنم...    1,5\n",
       "...         ...                                                ...    ...\n",
       "89994  15336944  بسیار زیبا و خوش دوخت بود\\nمن سایزم ۴۰ هست که ...      1\n",
       "89995  15336946                                        کیفیت مناسب      1\n",
       "89996  15336949                                  خوب و معمولی است.      1\n",
       "89997  15336950                                            بد نیست      1\n",
       "89998  15336955                                          نسبتا خوب      1\n",
       "\n",
       "[89999 rows x 3 columns]"
      ]
     },
     "execution_count": 15,
     "metadata": {},
     "output_type": "execute_result"
    }
   ],
   "source": [
    "df"
   ]
  },
  {
   "cell_type": "markdown",
   "id": "5736ca2a-19f6-46eb-b263-465d8b538198",
   "metadata": {},
   "source": [
    "## Text Preprocessing"
   ]
  },
  {
   "cell_type": "code",
   "execution_count": 20,
   "id": "b6b98f42-5184-40d6-9599-e114c0ea4b44",
   "metadata": {},
   "outputs": [],
   "source": [
    "from hazm import Normalizer, Lemmatizer, Stemmer, word_tokenize\n",
    "import re"
   ]
  },
  {
   "cell_type": "code",
   "execution_count": 24,
   "id": "c2a4d9aa-1290-49bc-bec5-550740e7ad3c",
   "metadata": {},
   "outputs": [],
   "source": [
    "\n",
    "normalizer = Normalizer()\n",
    "lemmatizer = Lemmatizer()\n",
    "stemmer = Stemmer()\n",
    "# turn a doc into clean tokens\n",
    "def clean_data(doc):\n",
    "    doc = normalizer.normalize(doc) # Normalize document using Hazm Normalizer\n",
    "    tokenized = word_tokenize(doc)  # Tokenize text\n",
    "    # ['یه', 'ساله', 'خریدم', 'خیلی', 'ضعیف', 'است', 'بازی', 'هم', 'که', 'چی', 'بگم', 'هیچ', 'کدوم', 'رو', 'باز', 'نمیکنه']\n",
    "    tokens = []\n",
    "    for token in tokenized:\n",
    "      token = re.sub(\"[،:.,;()/+]\", \" \", token) \n",
    "      token = re.sub(r\"\\!+\",\"!\", token)\n",
    "      token = re.sub(r\"\\؟+\",\"؟\", token)\n",
    "      token = re.sub(r\"\\u200c\", \" \", token)\n",
    "      tokens.append(token)\n",
    "\n",
    "    tokens = [w for w in tokens if not len(w) <= 1] # single character removal \n",
    "    tokens = [w for w in tokens if not w.isdigit()] # digit remove\n",
    "    tokens = [lemmatizer.lemmatize(w) for w in tokens] # Lemmatize sentence words using Hazm Lemmatizer\n",
    "    # tokens = [stemmer.stem(w) for w in tokens] \n",
    "    tokens = ' '.join(tokens)\n",
    "    return tokens"
   ]
  },
  {
   "cell_type": "code",
   "execution_count": 25,
   "id": "b84b56cf-c62b-4e8e-b8cb-bf6d8d8e9f80",
   "metadata": {},
   "outputs": [],
   "source": [
    "df[\"clean_comment\"] = df[\"comment\"].apply(clean_data)"
   ]
  },
  {
   "cell_type": "code",
   "execution_count": 26,
   "id": "d07f98a4-69e5-48d3-82c0-ff7780f31196",
   "metadata": {},
   "outputs": [
    {
     "data": {
      "text/html": [
       "<div>\n",
       "<style scoped>\n",
       "    .dataframe tbody tr th:only-of-type {\n",
       "        vertical-align: middle;\n",
       "    }\n",
       "\n",
       "    .dataframe tbody tr th {\n",
       "        vertical-align: top;\n",
       "    }\n",
       "\n",
       "    .dataframe thead th {\n",
       "        text-align: right;\n",
       "    }\n",
       "</style>\n",
       "<table border=\"1\" class=\"dataframe\">\n",
       "  <thead>\n",
       "    <tr style=\"text-align: right;\">\n",
       "      <th></th>\n",
       "      <th>id</th>\n",
       "      <th>comment</th>\n",
       "      <th>intent</th>\n",
       "      <th>clean_comment</th>\n",
       "    </tr>\n",
       "  </thead>\n",
       "  <tbody>\n",
       "    <tr>\n",
       "      <th>0</th>\n",
       "      <td>14311999</td>\n",
       "      <td>خوب وخوش طعم بود</td>\n",
       "      <td>1,5</td>\n",
       "      <td>خوب وخوش طعم بود#است</td>\n",
       "    </tr>\n",
       "    <tr>\n",
       "      <th>1</th>\n",
       "      <td>14312094</td>\n",
       "      <td>واقعا دست مریزاد هراز جان هم زده پروبیوتیک و خ...</td>\n",
       "      <td>1,5</td>\n",
       "      <td>واقعا دست مریزاد هراز جان هم زده پروبیوتیک خوش...</td>\n",
       "    </tr>\n",
       "    <tr>\n",
       "      <th>2</th>\n",
       "      <td>14312102</td>\n",
       "      <td>هنوز استفاده نکردم ولی عطر خوبی داره بسته بندی...</td>\n",
       "      <td>1,5</td>\n",
       "      <td>هنوز استفاده کرد#کن ولی عطر خوبی داره بسته بست...</td>\n",
       "    </tr>\n",
       "    <tr>\n",
       "      <th>3</th>\n",
       "      <td>14312205</td>\n",
       "      <td>ماندگاری خیلی خوبی داره اما بوی خوشایندی نداره</td>\n",
       "      <td>1,5</td>\n",
       "      <td>ماندگاری خیلی خوبی داره اما بوی خوشایند نداره</td>\n",
       "    </tr>\n",
       "    <tr>\n",
       "      <th>4</th>\n",
       "      <td>14312224</td>\n",
       "      <td>من خیلی وقته از رول ضد تعریق شون استفاده میکنم...</td>\n",
       "      <td>1,5</td>\n",
       "      <td>من خیلی وقته از رول ضد تعریق شون استفاده می کن...</td>\n",
       "    </tr>\n",
       "    <tr>\n",
       "      <th>...</th>\n",
       "      <td>...</td>\n",
       "      <td>...</td>\n",
       "      <td>...</td>\n",
       "      <td>...</td>\n",
       "    </tr>\n",
       "    <tr>\n",
       "      <th>89994</th>\n",
       "      <td>15336944</td>\n",
       "      <td>بسیار زیبا و خوش دوخت بود\\nمن سایزم ۴۰ هست که ...</td>\n",
       "      <td>1</td>\n",
       "      <td>بسیار زیبا خوش دوخت بود#است من سایز هست که لار...</td>\n",
       "    </tr>\n",
       "    <tr>\n",
       "      <th>89995</th>\n",
       "      <td>15336946</td>\n",
       "      <td>کیفیت مناسب</td>\n",
       "      <td>1</td>\n",
       "      <td>کیفیت مناسب</td>\n",
       "    </tr>\n",
       "    <tr>\n",
       "      <th>89996</th>\n",
       "      <td>15336949</td>\n",
       "      <td>خوب و معمولی است.</td>\n",
       "      <td>1</td>\n",
       "      <td>خوب معمولی است</td>\n",
       "    </tr>\n",
       "    <tr>\n",
       "      <th>89997</th>\n",
       "      <td>15336950</td>\n",
       "      <td>بد نیست</td>\n",
       "      <td>1</td>\n",
       "      <td>بد نیست</td>\n",
       "    </tr>\n",
       "    <tr>\n",
       "      <th>89998</th>\n",
       "      <td>15336955</td>\n",
       "      <td>نسبتا خوب</td>\n",
       "      <td>1</td>\n",
       "      <td>نسبتا خوب</td>\n",
       "    </tr>\n",
       "  </tbody>\n",
       "</table>\n",
       "<p>89999 rows × 4 columns</p>\n",
       "</div>"
      ],
      "text/plain": [
       "             id                                            comment intent  \\\n",
       "0      14311999                                   خوب وخوش طعم بود    1,5   \n",
       "1      14312094  واقعا دست مریزاد هراز جان هم زده پروبیوتیک و خ...    1,5   \n",
       "2      14312102  هنوز استفاده نکردم ولی عطر خوبی داره بسته بندی...    1,5   \n",
       "3      14312205     ماندگاری خیلی خوبی داره اما بوی خوشایندی نداره    1,5   \n",
       "4      14312224  من خیلی وقته از رول ضد تعریق شون استفاده میکنم...    1,5   \n",
       "...         ...                                                ...    ...   \n",
       "89994  15336944  بسیار زیبا و خوش دوخت بود\\nمن سایزم ۴۰ هست که ...      1   \n",
       "89995  15336946                                        کیفیت مناسب      1   \n",
       "89996  15336949                                  خوب و معمولی است.      1   \n",
       "89997  15336950                                            بد نیست      1   \n",
       "89998  15336955                                          نسبتا خوب      1   \n",
       "\n",
       "                                           clean_comment  \n",
       "0                                   خوب وخوش طعم بود#است  \n",
       "1      واقعا دست مریزاد هراز جان هم زده پروبیوتیک خوش...  \n",
       "2      هنوز استفاده کرد#کن ولی عطر خوبی داره بسته بست...  \n",
       "3          ماندگاری خیلی خوبی داره اما بوی خوشایند نداره  \n",
       "4      من خیلی وقته از رول ضد تعریق شون استفاده می کن...  \n",
       "...                                                  ...  \n",
       "89994  بسیار زیبا خوش دوخت بود#است من سایز هست که لار...  \n",
       "89995                                        کیفیت مناسب  \n",
       "89996                                     خوب معمولی است  \n",
       "89997                                            بد نیست  \n",
       "89998                                          نسبتا خوب  \n",
       "\n",
       "[89999 rows x 4 columns]"
      ]
     },
     "execution_count": 26,
     "metadata": {},
     "output_type": "execute_result"
    }
   ],
   "source": [
    "df"
   ]
  },
  {
   "cell_type": "code",
   "execution_count": 28,
   "id": "6bccbbf2-df8e-4e80-8c31-173dbe1d9054",
   "metadata": {},
   "outputs": [
    {
     "name": "stdout",
     "output_type": "stream",
     "text": [
      "(62999,) (27000,) (62999,) (27000,)\n"
     ]
    }
   ],
   "source": [
    "from sklearn.model_selection import train_test_split\n",
    "\n",
    "X = df['clean_comment']\n",
    "y = df.intent\n",
    "\n",
    "X_train, X_test, y_train, y_test = train_test_split(X, y, test_size=0.3, random_state=212)\n",
    "print(X_train.shape, X_test.shape, y_train.shape, y_test.shape)"
   ]
  },
  {
   "cell_type": "code",
   "execution_count": 60,
   "id": "eda65c54-20e3-4ced-85f4-21907235f33e",
   "metadata": {},
   "outputs": [
    {
     "name": "stdout",
     "output_type": "stream",
     "text": [
      "MODEL: LINEAR SVC\n",
      "accuarcy score:  0.7290740740740741\n",
      "Confusion matrix:  [[2265  140  140  126   92  102   54   74   28]\n",
      " [ 236 1817   72   68   48  693   21    9    7]\n",
      " [ 177   72 1857  134   38   10  559   25    2]\n",
      " [ 164   45  159 1972   31   11   59  557    6]\n",
      " [  79   19   17   28 2089    6    6    8  809]\n",
      " [  91  313    9   13    5 2447   26   21    3]\n",
      " [  74   12  349   27    3   19 2399  122    7]\n",
      " [  85   11   23  420    9   23  150 2359   22]\n",
      " [  40    3    1    9  462    9    8   15 2480]]\n",
      "              precision    recall  f1-score   support\n",
      "\n",
      "           1       0.71      0.75      0.73      3021\n",
      "         1,2       0.75      0.61      0.67      2971\n",
      "         1,3       0.71      0.65      0.68      2874\n",
      "         1,4       0.71      0.66      0.68      3004\n",
      "         1,5       0.75      0.68      0.72      3061\n",
      "           2       0.74      0.84      0.78      2928\n",
      "           3       0.73      0.80      0.76      3012\n",
      "           4       0.74      0.76      0.75      3102\n",
      "           5       0.74      0.82      0.78      3027\n",
      "\n",
      "    accuracy                           0.73     27000\n",
      "   macro avg       0.73      0.73      0.73     27000\n",
      "weighted avg       0.73      0.73      0.73     27000\n",
      "\n"
     ]
    }
   ],
   "source": [
    "from sklearn.feature_extraction.text import TfidfVectorizer\n",
    "from sklearn.svm import LinearSVC\n",
    "from sklearn.pipeline import Pipeline\n",
    "from sklearn.metrics import accuracy_score, precision_score, recall_score, confusion_matrix, classification_report,f1_score\n",
    "\n",
    "lin_svc_ds = Pipeline([('tfidf', TfidfVectorizer()),\n",
    "                      ('lin_svc', LinearSVC())])\n",
    "\n",
    "lin_svc_ds.fit(X_train, y_train)\n",
    "\n",
    "pred = lin_svc_ds.predict(X_test)\n",
    "\n",
    "print(\"MODEL: LINEAR SVC\")\n",
    "print(\"accuarcy score: \", accuracy_score(y_test, pred))\n",
    "print(\"Confusion matrix: \", confusion_matrix(y_test, pred))\n",
    "print(classification_report(y_test, pred))"
   ]
  },
  {
   "cell_type": "code",
   "execution_count": 62,
   "id": "9b9296d5-b23a-4d48-9aa1-30b9a15de0da",
   "metadata": {},
   "outputs": [
    {
     "name": "stdout",
     "output_type": "stream",
     "text": [
      "MODEL: LOGISTIC REGRESSION\n",
      "accuarcy score:  0.7521481481481481\n",
      "Confusion matrix:  [[2382  121  128  122   45   79   43   87   14]\n",
      " [ 258 2049   41   45   18  540    9    8    3]\n",
      " [ 189   38 2004  105   11    8  485   34    0]\n",
      " [ 164   31  113 2066    7    8   54  559    2]\n",
      " [ 109   16   11   23 2222    4    5   15  656]\n",
      " [  85  429    1    8    3 2379   13   10    0]\n",
      " [  78    6  399   18    0   20 2369  116    6]\n",
      " [  78    6   13  403    2   15  137 2435   13]\n",
      " [  57    8    2    4  509   14   11   20 2402]]\n",
      "              precision    recall  f1-score   support\n",
      "\n",
      "           1       0.70      0.79      0.74      3021\n",
      "         1,2       0.76      0.69      0.72      2971\n",
      "         1,3       0.74      0.70      0.72      2874\n",
      "         1,4       0.74      0.69      0.71      3004\n",
      "         1,5       0.79      0.73      0.76      3061\n",
      "           2       0.78      0.81      0.79      2928\n",
      "           3       0.76      0.79      0.77      3012\n",
      "           4       0.74      0.78      0.76      3102\n",
      "           5       0.78      0.79      0.78      3027\n",
      "\n",
      "    accuracy                           0.75     27000\n",
      "   macro avg       0.75      0.75      0.75     27000\n",
      "weighted avg       0.75      0.75      0.75     27000\n",
      "\n"
     ]
    }
   ],
   "source": [
    "from sklearn.feature_extraction.text import CountVectorizer, TfidfTransformer\n",
    "from sklearn.linear_model import LogisticRegression\n",
    "\n",
    "\n",
    "# Fit the pipeline to the data\n",
    "log_reg_ds = Pipeline([('count_vec', CountVectorizer()),\n",
    "                      ('tfidf', TfidfTransformer()),\n",
    "                      ('log_reg', LogisticRegression())])\n",
    "\n",
    "log_reg_ds.fit(X_train, y_train)\n",
    "\n",
    "# predict on test dataset\n",
    "pred = log_reg_ds.predict(X_test)\n",
    "\n",
    "print(\"MODEL: LOGISTIC REGRESSION\")\n",
    "\n",
    "# print accuracy score\n",
    "print(\"accuarcy score: \", accuracy_score(y_test, pred))\n",
    "\n",
    "#print confusion matrix\n",
    "print(\"Confusion matrix: \", confusion_matrix(y_test, pred))\n",
    "#print classification report\n",
    "print(classification_report(y_test, pred))"
   ]
  },
  {
   "cell_type": "code",
   "execution_count": 63,
   "id": "d67564fb-e61f-49de-a8f8-e25ad973e7dc",
   "metadata": {},
   "outputs": [
    {
     "name": "stdout",
     "output_type": "stream",
     "text": [
      "MODEL: Multinomial NB\n",
      "accuarcy score:  0.6573703703703704\n",
      "Confusion matrix:  [[1150  418  486  420  255  124   42   75   51]\n",
      " [ 138 1933  130  152   64  532   10   11    1]\n",
      " [  62   68 2138  192   40    4  330   35    5]\n",
      " [  36   22  148 2239   12    2   43  497    5]\n",
      " [  45   30   35   96 2227    9    4   13  602]\n",
      " [  35  690   16   28   10 2107   12   30    0]\n",
      " [  22   19  769   75   20   16 1947  142    2]\n",
      " [  11    5   36  921   14    4  127 1973   11]\n",
      " [  11   10   11   30  880   21   10   19 2035]]\n",
      "              precision    recall  f1-score   support\n",
      "\n",
      "           1       0.76      0.38      0.51      3021\n",
      "         1,2       0.61      0.65      0.63      2971\n",
      "         1,3       0.57      0.74      0.64      2874\n",
      "         1,4       0.54      0.75      0.63      3004\n",
      "         1,5       0.63      0.73      0.68      3061\n",
      "           2       0.75      0.72      0.73      2928\n",
      "           3       0.77      0.65      0.70      3012\n",
      "           4       0.71      0.64      0.67      3102\n",
      "           5       0.75      0.67      0.71      3027\n",
      "\n",
      "    accuracy                           0.66     27000\n",
      "   macro avg       0.68      0.66      0.66     27000\n",
      "weighted avg       0.68      0.66      0.65     27000\n",
      "\n"
     ]
    }
   ],
   "source": [
    "from sklearn.naive_bayes import MultinomialNB\n",
    "\n",
    "\n",
    "# Fit the pipeline to the data\n",
    "multi_nb_ds = Pipeline([('count_vec', CountVectorizer()),\n",
    "                      ('tfidf', TfidfTransformer()),\n",
    "                      ('multi_nb', MultinomialNB())])\n",
    "\n",
    "multi_nb_ds.fit(X_train, y_train)\n",
    "\n",
    "# predict on test dataset\n",
    "pred = multi_nb_ds.predict(X_test)\n",
    "\n",
    "print(\"MODEL: Multinomial NB\")\n",
    "# print accuracy score\n",
    "print(\"accuarcy score: \", accuracy_score(y_test, pred))\n",
    "\n",
    "#print confusion matrix\n",
    "print(\"Confusion matrix: \", confusion_matrix(y_test, pred))\n",
    "\n",
    "#print classification report\n",
    "print(classification_report(y_test, pred))"
   ]
  },
  {
   "cell_type": "code",
   "execution_count": 64,
   "id": "8b3269bb-98a4-452a-b2da-4f6feaacb33b",
   "metadata": {},
   "outputs": [
    {
     "name": "stdout",
     "output_type": "stream",
     "text": [
      "MODEL: XG Boost\n",
      "accuarcy score:  0.7369629629629629\n",
      "Confusion matrix:  [[2478  137   92  104   34   78   19   71    8]\n",
      " [ 228 2128   37   38   18  504    4    8    6]\n",
      " [ 242   44 1927   99   10    1  522   29    0]\n",
      " [ 241   38  101 2044   11    6   45  516    2]\n",
      " [ 150   13    7   16 2243    5    4    6  617]\n",
      " [ 134  443    4    5    4 2326    5    7    0]\n",
      " [ 201   17  427   18    1   15 2214  114    5]\n",
      " [ 182   23   24  465    5   11  128 2254   10]\n",
      " [ 134    1    1    5  579    9    1   13 2284]]\n",
      "              precision    recall  f1-score   support\n",
      "\n",
      "           0       0.62      0.82      0.71      3021\n",
      "           1       0.75      0.72      0.73      2971\n",
      "           2       0.74      0.67      0.70      2874\n",
      "           3       0.73      0.68      0.71      3004\n",
      "           4       0.77      0.73      0.75      3061\n",
      "           5       0.79      0.79      0.79      2928\n",
      "           6       0.75      0.74      0.74      3012\n",
      "           7       0.75      0.73      0.74      3102\n",
      "           8       0.78      0.75      0.77      3027\n",
      "\n",
      "    accuracy                           0.74     27000\n",
      "   macro avg       0.74      0.74      0.74     27000\n",
      "weighted avg       0.74      0.74      0.74     27000\n",
      "\n"
     ]
    }
   ],
   "source": [
    "from xgboost import XGBClassifier\n",
    "from sklearn.preprocessing import LabelEncoder\n",
    "\n",
    "\n",
    "# Fit the pipeline to the data\n",
    "xg_boost_ds = Pipeline([('count_vec', CountVectorizer()),\n",
    "                      ('tfidf', TfidfTransformer()),\n",
    "                      ('xgb', XGBClassifier())])\n",
    "\n",
    "encoder = LabelEncoder()\n",
    "enc_train = encoder.fit_transform(y_train)\n",
    "enc_test = encoder.fit_transform(y_test)\n",
    "\n",
    "xg_boost_ds.fit(X_train, enc_train)\n",
    "\n",
    "# predict on test dataset\n",
    "pred = xg_boost_ds.predict(X_test)\n",
    "\n",
    "print(\"MODEL: XG Boost\")\n",
    "\n",
    "# print accuracy score\n",
    "print(\"accuarcy score: \", accuracy_score(enc_test, pred))\n",
    "\n",
    "#print confusion matrix\n",
    "print(\"Confusion matrix: \", confusion_matrix(enc_test, pred))\n",
    "\n",
    "#print classification report\n",
    "print(classification_report(enc_test, pred))"
   ]
  },
  {
   "cell_type": "code",
   "execution_count": 65,
   "id": "76180dda-0816-4785-a813-a3c8682ad83d",
   "metadata": {},
   "outputs": [],
   "source": [
    "# helper function for comparing models matric\n",
    "\n",
    "def metrics_comparison(model_objects, model_names, X_test, y_test, enc_test):\n",
    "    \n",
    "    # create a dataframe with column matric and metric name as value\n",
    "    metrics_df = pd.DataFrame(columns=['model_names','accuracy','precision','recall','f1_score'])\n",
    "    metrics_df['model_names'] = model_names\n",
    "   \n",
    "    # then predict on the test set\n",
    "    metrics_df['accuracy'] = [accuracy_score(y_test, model.predict(X_test)) if model != xg_boost_ds else accuracy_score(enc_test, model.predict(X_test)) for model in model_objects]\n",
    "    metrics_df['precision'] = [precision_score(y_test, model.predict(X_test),average='weighted') if model != xg_boost_ds else precision_score(enc_test, model.predict(X_test), average='weighted') for model in model_objects]\n",
    "    metrics_df['recall'] = [recall_score(y_test, model.predict(X_test),average='weighted') if model != xg_boost_ds else recall_score(enc_test, model.predict(X_test),average='weighted') for model in model_objects]\n",
    "    metrics_df['f1_score'] = [f1_score(y_test, model.predict(X_test),average='weighted') if model != xg_boost_ds else f1_score(enc_test, model.predict(X_test), average='weighted') for model in model_objects]\n",
    "    \n",
    "    return metrics_df"
   ]
  },
  {
   "cell_type": "code",
   "execution_count": 70,
   "id": "77bb0dfa-0eb9-4dc7-be7a-f7faaf235def",
   "metadata": {},
   "outputs": [
    {
     "data": {
      "text/html": [
       "<div>\n",
       "<style scoped>\n",
       "    .dataframe tbody tr th:only-of-type {\n",
       "        vertical-align: middle;\n",
       "    }\n",
       "\n",
       "    .dataframe tbody tr th {\n",
       "        vertical-align: top;\n",
       "    }\n",
       "\n",
       "    .dataframe thead th {\n",
       "        text-align: right;\n",
       "    }\n",
       "</style>\n",
       "<table border=\"1\" class=\"dataframe\">\n",
       "  <thead>\n",
       "    <tr style=\"text-align: right;\">\n",
       "      <th></th>\n",
       "      <th>model_names</th>\n",
       "      <th>accuracy</th>\n",
       "      <th>precision</th>\n",
       "      <th>recall</th>\n",
       "      <th>f1_score</th>\n",
       "    </tr>\n",
       "  </thead>\n",
       "  <tbody>\n",
       "    <tr>\n",
       "      <th>0</th>\n",
       "      <td>LinearSVC</td>\n",
       "      <td>0.729074</td>\n",
       "      <td>0.729187</td>\n",
       "      <td>0.729074</td>\n",
       "      <td>0.727125</td>\n",
       "    </tr>\n",
       "    <tr>\n",
       "      <th>1</th>\n",
       "      <td>LogRegression</td>\n",
       "      <td>0.752148</td>\n",
       "      <td>0.752947</td>\n",
       "      <td>0.752148</td>\n",
       "      <td>0.751606</td>\n",
       "    </tr>\n",
       "    <tr>\n",
       "      <th>2</th>\n",
       "      <td>MultinomialNB</td>\n",
       "      <td>0.657370</td>\n",
       "      <td>0.676135</td>\n",
       "      <td>0.657370</td>\n",
       "      <td>0.654979</td>\n",
       "    </tr>\n",
       "    <tr>\n",
       "      <th>3</th>\n",
       "      <td>XGBoost</td>\n",
       "      <td>0.736963</td>\n",
       "      <td>0.741492</td>\n",
       "      <td>0.736963</td>\n",
       "      <td>0.737276</td>\n",
       "    </tr>\n",
       "  </tbody>\n",
       "</table>\n",
       "</div>"
      ],
      "text/plain": [
       "     model_names  accuracy  precision    recall  f1_score\n",
       "0      LinearSVC  0.729074   0.729187  0.729074  0.727125\n",
       "1  LogRegression  0.752148   0.752947  0.752148  0.751606\n",
       "2  MultinomialNB  0.657370   0.676135  0.657370  0.654979\n",
       "3        XGBoost  0.736963   0.741492  0.736963  0.737276"
      ]
     },
     "execution_count": 70,
     "metadata": {},
     "output_type": "execute_result"
    }
   ],
   "source": [
    "# list of model objects\n",
    "model_objects = [lin_svc_ds, log_reg_ds, multi_nb_ds, xg_boost_ds]\n",
    "\n",
    "# list of model names\n",
    "model_names = ['LinearSVC', 'LogRegression','MultinomialNB','XGBoost']\n",
    "\n",
    "# print the comparison of models\n",
    "met_df = metrics_comparison(model_objects,model_names, X_test, y_test, enc_test)\n",
    "met_df"
   ]
  },
  {
   "cell_type": "code",
   "execution_count": null,
   "id": "64ea71ca-0cc7-431e-b8ad-21fb037cff6e",
   "metadata": {},
   "outputs": [],
   "source": []
  },
  {
   "cell_type": "code",
   "execution_count": null,
   "id": "3b8394c9-d2c4-4a00-ae4d-1c47b3cd13c0",
   "metadata": {},
   "outputs": [],
   "source": []
  },
  {
   "cell_type": "code",
   "execution_count": null,
   "id": "47a8a609-3a22-4d6e-8395-a9885c1cc49e",
   "metadata": {},
   "outputs": [],
   "source": []
  }
 ],
 "metadata": {
  "kernelspec": {
   "display_name": "Python 3 (ipykernel)",
   "language": "python",
   "name": "python3"
  },
  "language_info": {
   "codemirror_mode": {
    "name": "ipython",
    "version": 3
   },
   "file_extension": ".py",
   "mimetype": "text/x-python",
   "name": "python",
   "nbconvert_exporter": "python",
   "pygments_lexer": "ipython3",
   "version": "3.9.18"
  }
 },
 "nbformat": 4,
 "nbformat_minor": 5
}
